{
  "nbformat": 4,
  "nbformat_minor": 0,
  "metadata": {
    "colab": {
      "name": "PlantDoc.ipynb",
      "provenance": [],
      "collapsed_sections": [],
      "toc_visible": true
    },
    "kernelspec": {
      "name": "python3",
      "display_name": "Python 3"
    },
    "accelerator": "GPU"
  },
  "cells": [
    {
      "cell_type": "markdown",
      "metadata": {
        "id": "qZE7x-4PR3kM"
      },
      "source": [
        "# <center>Analysis in PlantDoc Dataset"
      ]
    },
    {
      "cell_type": "markdown",
      "metadata": {
        "id": "lWJkEuXYpaJO"
      },
      "source": [
        "Here we have we tryed various models like: VGG16, Xception, Inception, ResNet, MoblieNet for prediction and detection of plant diseases using PlantDoc dataset."
      ]
    },
    {
      "cell_type": "markdown",
      "metadata": {
        "id": "TQ_hpWMH-Mh4"
      },
      "source": [
        "**IMPORTING THE DATASET**"
      ]
    },
    {
      "cell_type": "code",
      "metadata": {
        "colab": {
          "base_uri": "https://localhost:8080/"
        },
        "id": "fruYkgkjJrvV",
        "outputId": "007fd625-36d3-4df2-d2d0-f999f05817a8"
      },
      "source": [
        "!git clone https://github.com/pratikkayal/PlantDoc-Dataset.git"
      ],
      "execution_count": null,
      "outputs": [
        {
          "output_type": "stream",
          "text": [
            "Cloning into 'PlantDoc-Dataset'...\n",
            "remote: Enumerating objects: 2670, done.\u001b[K\n",
            "remote: Counting objects: 100% (42/42), done.\u001b[K\n",
            "remote: Compressing objects: 100% (42/42), done.\u001b[K\n",
            "remote: Total 2670 (delta 24), reused 0 (delta 0), pack-reused 2628\u001b[K\n",
            "Receiving objects: 100% (2670/2670), 932.92 MiB | 21.57 MiB/s, done.\n",
            "Resolving deltas: 100% (25/25), done.\n",
            "Checking out files: 100% (2581/2581), done.\n"
          ],
          "name": "stdout"
        }
      ]
    },
    {
      "cell_type": "code",
      "metadata": {
        "colab": {
          "base_uri": "https://localhost:8080/",
          "height": 35
        },
        "id": "BC6FDoBWJy77",
        "outputId": "dca0edec-24d5-45ec-916f-432ffee9d128"
      },
      "source": [
        "pwd"
      ],
      "execution_count": null,
      "outputs": [
        {
          "output_type": "execute_result",
          "data": {
            "application/vnd.google.colaboratory.intrinsic+json": {
              "type": "string"
            },
            "text/plain": [
              "'/content'"
            ]
          },
          "metadata": {
            "tags": []
          },
          "execution_count": 3
        }
      ]
    },
    {
      "cell_type": "markdown",
      "metadata": {
        "id": "yU1jKaOGUC3t"
      },
      "source": [
        ""
      ]
    },
    {
      "cell_type": "code",
      "metadata": {
        "id": "j8irRCiq7yav"
      },
      "source": [
        "import shutil\n",
        "shutil.rmtree(\"/content/PlantDoc-Dataset/train/Tomato two spotted spider mites leaf\")"
      ],
      "execution_count": null,
      "outputs": []
    },
    {
      "cell_type": "markdown",
      "metadata": {
        "id": "1DfD-xkG-Yha"
      },
      "source": [
        "**IMPORTING LIBRARIES**"
      ]
    },
    {
      "cell_type": "code",
      "metadata": {
        "id": "uPCPOy8gJ3uD"
      },
      "source": [
        "import pandas as pd # data processing, CSV file I/O (e.g. pd.read_csv)\n",
        "import seaborn as sns\n",
        "import sys\n",
        "import os\n",
        "from keras.applications.vgg16 import VGG16\n",
        "import keras\n",
        "from numpy import load\n",
        "from matplotlib import pyplot\n",
        "from sklearn.model_selection import train_test_split\n",
        "from keras import backend\n",
        "from keras.layers import Dense\n",
        "from keras.layers import Flatten\n",
        "from keras.models import Sequential\n",
        "from keras.layers import Conv2D,MaxPooling2D\n",
        "from keras.optimizers import SGD\n",
        "from keras.models import Model\n",
        "from keras.preprocessing.image import ImageDataGenerator\n",
        "from keras.preprocessing.image import load_img\n",
        "from keras.preprocessing.image import img_to_array\n",
        "from keras.layers import Dropout\n",
        "from keras.layers.normalization import BatchNormalization"
      ],
      "execution_count": null,
      "outputs": []
    },
    {
      "cell_type": "code",
      "metadata": {
        "id": "0Nlete5Vxgpq"
      },
      "source": [
        ""
      ],
      "execution_count": null,
      "outputs": []
    },
    {
      "cell_type": "code",
      "metadata": {
        "id": "78tELWTUxPaJ"
      },
      "source": [
        ""
      ],
      "execution_count": null,
      "outputs": []
    },
    {
      "cell_type": "markdown",
      "metadata": {
        "id": "vriZcX4e-mUH"
      },
      "source": [
        "**SPLITTING DATA INTO TRAINING AND VALIDATION**"
      ]
    },
    {
      "cell_type": "code",
      "metadata": {
        "id": "0tzc1hSoKNWg"
      },
      "source": [
        "traindir = \"/content/PlantDoc-Dataset/train\"\n",
        "validdir = \"/content/PlantDoc-Dataset/test\"\n",
        "\n",
        "train_datagen = ImageDataGenerator(rescale=1./255, shear_range=0.2, zoom_range=0.2, width_shift_range=0.2, height_shift_range=0.2, fill_mode='nearest')\n",
        "\n",
        "valid_datagen = ImageDataGenerator(rescale=1./255)"
      ],
      "execution_count": null,
      "outputs": []
    },
    {
      "cell_type": "code",
      "metadata": {
        "colab": {
          "base_uri": "https://localhost:8080/"
        },
        "id": "mzlxINXlL0fo",
        "outputId": "b536179b-e9e1-4f6c-866a-910b30faad3b"
      },
      "source": [
        "\n",
        "batch_size = 128\n",
        "training_set = train_datagen.flow_from_directory(traindir, target_size=(224, 224), batch_size=batch_size, class_mode='categorical')\n",
        "\n",
        "valid_set = valid_datagen.flow_from_directory(validdir, target_size=(224, 224), batch_size=batch_size, class_mode='categorical')"
      ],
      "execution_count": null,
      "outputs": [
        {
          "output_type": "stream",
          "text": [
            "Found 2340 images belonging to 27 classes.\n",
            "Found 236 images belonging to 27 classes.\n"
          ],
          "name": "stdout"
        }
      ]
    },
    {
      "cell_type": "code",
      "metadata": {
        "colab": {
          "base_uri": "https://localhost:8080/"
        },
        "id": "giLMKjIFMI5K",
        "outputId": "420de469-4a81-43b2-f557-92460daab4c9"
      },
      "source": [
        "class_dict = training_set.class_indices\n",
        "print(class_dict)"
      ],
      "execution_count": null,
      "outputs": [
        {
          "output_type": "stream",
          "text": [
            "{'Apple Scab Leaf': 0, 'Apple leaf': 1, 'Apple rust leaf': 2, 'Bell_pepper leaf': 3, 'Bell_pepper leaf spot': 4, 'Blueberry leaf': 5, 'Cherry leaf': 6, 'Corn Gray leaf spot': 7, 'Corn leaf blight': 8, 'Corn rust leaf': 9, 'Peach leaf': 10, 'Potato leaf early blight': 11, 'Potato leaf late blight': 12, 'Raspberry leaf': 13, 'Soyabean leaf': 14, 'Squash Powdery mildew leaf': 15, 'Strawberry leaf': 16, 'Tomato Early blight leaf': 17, 'Tomato Septoria leaf spot': 18, 'Tomato leaf': 19, 'Tomato leaf bacterial spot': 20, 'Tomato leaf late blight': 21, 'Tomato leaf mosaic virus': 22, 'Tomato leaf yellow virus': 23, 'Tomato mold leaf': 24, 'grape leaf': 25, 'grape leaf black rot': 26}\n"
          ],
          "name": "stdout"
        }
      ]
    },
    {
      "cell_type": "code",
      "metadata": {
        "colab": {
          "base_uri": "https://localhost:8080/"
        },
        "id": "0qM7jHD1UcFO",
        "outputId": "cfe9a2a9-0ce7-468e-bc7f-63810939a899"
      },
      "source": [
        "cls_dict = valid_set.class_indices\n",
        "print(cls_dict)"
      ],
      "execution_count": null,
      "outputs": [
        {
          "output_type": "stream",
          "text": [
            "{'Apple Scab Leaf': 0, 'Apple leaf': 1, 'Apple rust leaf': 2, 'Bell_pepper leaf': 3, 'Bell_pepper leaf spot': 4, 'Blueberry leaf': 5, 'Cherry leaf': 6, 'Corn Gray leaf spot': 7, 'Corn leaf blight': 8, 'Corn rust leaf': 9, 'Peach leaf': 10, 'Potato leaf early blight': 11, 'Potato leaf late blight': 12, 'Raspberry leaf': 13, 'Soyabean leaf': 14, 'Squash Powdery mildew leaf': 15, 'Strawberry leaf': 16, 'Tomato Early blight leaf': 17, 'Tomato Septoria leaf spot': 18, 'Tomato leaf': 19, 'Tomato leaf bacterial spot': 20, 'Tomato leaf late blight': 21, 'Tomato leaf mosaic virus': 22, 'Tomato leaf yellow virus': 23, 'Tomato mold leaf': 24, 'grape leaf': 25, 'grape leaf black rot': 26}\n"
          ],
          "name": "stdout"
        }
      ]
    },
    {
      "cell_type": "code",
      "metadata": {
        "colab": {
          "base_uri": "https://localhost:8080/"
        },
        "id": "eHRlV-x4MQKK",
        "outputId": "23ef0d10-a2c2-45ed-9d87-2e80eda9d571"
      },
      "source": [
        "li = list(class_dict.keys())\n",
        "print(li)"
      ],
      "execution_count": null,
      "outputs": [
        {
          "output_type": "stream",
          "text": [
            "['Apple Scab Leaf', 'Apple leaf', 'Apple rust leaf', 'Bell_pepper leaf', 'Bell_pepper leaf spot', 'Blueberry leaf', 'Cherry leaf', 'Corn Gray leaf spot', 'Corn leaf blight', 'Corn rust leaf', 'Peach leaf', 'Potato leaf early blight', 'Potato leaf late blight', 'Raspberry leaf', 'Soyabean leaf', 'Squash Powdery mildew leaf', 'Strawberry leaf', 'Tomato Early blight leaf', 'Tomato Septoria leaf spot', 'Tomato leaf', 'Tomato leaf bacterial spot', 'Tomato leaf late blight', 'Tomato leaf mosaic virus', 'Tomato leaf yellow virus', 'Tomato mold leaf', 'grape leaf', 'grape leaf black rot']\n"
          ],
          "name": "stdout"
        }
      ]
    },
    {
      "cell_type": "code",
      "metadata": {
        "id": "l3fewusSMV-f"
      },
      "source": [
        "train_num = training_set.samples\n",
        "valid_num = valid_set.samples"
      ],
      "execution_count": null,
      "outputs": []
    },
    {
      "cell_type": "code",
      "metadata": {
        "id": "BeRPYJnt6SwX"
      },
      "source": [
        "import os\n",
        "import zipfile\n",
        "import tensorflow as tf\n",
        "from tensorflow.keras.optimizers import RMSprop\n",
        "from tensorflow.keras.preprocessing.image import ImageDataGenerator"
      ],
      "execution_count": null,
      "outputs": []
    },
    {
      "cell_type": "code",
      "metadata": {
        "id": "XRByzh6U6JQ4"
      },
      "source": [
        "model = tf.keras.models.Sequential([\n",
        "    tf.keras.layers.Conv2D(32, (3,3), activation='relu', input_shape=(224,224,3)),\n",
        "    tf.keras.layers.MaxPooling2D(2, 2),\n",
        "    tf.keras.layers.Conv2D(64, (3,3), activation='relu'),\n",
        "    tf.keras.layers.MaxPooling2D(2,2),\n",
        "    tf.keras.layers.Conv2D(128, (3,3), activation='relu'),\n",
        "    tf.keras.layers.MaxPooling2D(2,2),\n",
        "    tf.keras.layers.Conv2D(128, (3,3), activation='relu'),\n",
        "    tf.keras.layers.MaxPooling2D(2,2),\n",
        "    tf.keras.layers.Flatten(),\n",
        "    tf.keras.layers.Dense(512, activation='relu'),\n",
        "    tf.keras.layers.Dense(27, activation='sigmoid')\n",
        "])\n",
        "\n",
        "model.compile(loss='binary_crossentropy',\n",
        "              optimizer=RMSprop(lr=1e-4),\n",
        "              metrics=['accuracy'])"
      ],
      "execution_count": null,
      "outputs": []
    },
    {
      "cell_type": "code",
      "metadata": {
        "colab": {
          "base_uri": "https://localhost:8080/"
        },
        "id": "W9n5kct36JOm",
        "outputId": "52eda103-0379-497c-a68c-31743199d103"
      },
      "source": [
        "history = model.fit(\n",
        "      training_set,\n",
        "      steps_per_epoch=train_num//batch_size,  # 2000 images = batch_size * steps\n",
        "      epochs=10,\n",
        "      validation_data=valid_set,\n",
        "      validation_steps=valid_num//batch_size) # 1000 images = batch_size * steps"
      ],
      "execution_count": null,
      "outputs": [
        {
          "output_type": "stream",
          "text": [
            "Epoch 1/10\n",
            "18/18 [==============================] - 98s 5s/step - loss: 0.1634 - accuracy: 0.0570 - val_loss: 0.1667 - val_accuracy: 0.0625\n",
            "Epoch 2/10\n",
            "18/18 [==============================] - 95s 5s/step - loss: 0.1629 - accuracy: 0.0705 - val_loss: 0.1697 - val_accuracy: 0.1016\n",
            "Epoch 3/10\n",
            "18/18 [==============================] - 94s 5s/step - loss: 0.1613 - accuracy: 0.0972 - val_loss: 0.1646 - val_accuracy: 0.0547\n",
            "Epoch 4/10\n",
            "18/18 [==============================] - 94s 5s/step - loss: 0.1599 - accuracy: 0.0850 - val_loss: 0.1664 - val_accuracy: 0.0859\n",
            "Epoch 5/10\n",
            "18/18 [==============================] - 93s 5s/step - loss: 0.1579 - accuracy: 0.0891 - val_loss: 0.1599 - val_accuracy: 0.1016\n",
            "Epoch 6/10\n",
            "18/18 [==============================] - 93s 5s/step - loss: 0.1570 - accuracy: 0.1058 - val_loss: 0.1623 - val_accuracy: 0.0703\n",
            "Epoch 7/10\n",
            "18/18 [==============================] - 93s 5s/step - loss: 0.1559 - accuracy: 0.1058 - val_loss: 0.1618 - val_accuracy: 0.0625\n",
            "Epoch 8/10\n",
            "18/18 [==============================] - 93s 5s/step - loss: 0.1545 - accuracy: 0.1230 - val_loss: 0.1610 - val_accuracy: 0.0547\n",
            "Epoch 9/10\n",
            "18/18 [==============================] - 92s 5s/step - loss: 0.1540 - accuracy: 0.1234 - val_loss: 0.1569 - val_accuracy: 0.0859\n",
            "Epoch 10/10\n",
            "18/18 [==============================] - 92s 5s/step - loss: 0.1527 - accuracy: 0.1338 - val_loss: 0.1555 - val_accuracy: 0.0859\n"
          ],
          "name": "stdout"
        }
      ]
    },
    {
      "cell_type": "code",
      "metadata": {
        "colab": {
          "base_uri": "https://localhost:8080/"
        },
        "id": "kTQ7Rp6f6JMT",
        "outputId": "8076a330-8e87-4f80-d7b9-8c74bc39e0c0"
      },
      "source": [
        "import matplotlib.pyplot as plt\n",
        "acc = history.history['accuracy']\n",
        "val_acc = history.history['val_accuracy']\n",
        "loss = history.history['loss']\n",
        "val_loss = history.history['val_loss']\n",
        "\n",
        "epochs = range(len(acc))\n",
        "\n",
        "plt.plot(epochs, acc, 'bo', label='Training accuracy')\n",
        "plt.plot(epochs, val_acc, 'b', label='Validation accuracy')\n",
        "plt.title('Training and validation accuracy')\n",
        "\n",
        "plt.figure()\n",
        "\n",
        "plt.plot(epochs, loss, 'bo', label='Training Loss')\n",
        "plt.plot(epochs, val_loss, 'b', label='Validation Loss')\n",
        "plt.title('Training and validation loss')\n",
        "plt.legend()\n",
        "\n",
        "plt.show()"
      ],
      "execution_count": null,
      "outputs": [
        {
          "output_type": "display_data",
          "data": {
            "image/png": "[encoded data removed]",
            "text/plain": [
              "<Figure size 432x288 with 1 Axes>"
            ]
          },
          "metadata": {
            "tags": [],
            "needs_background": "light"
          }
        },
        {
          "output_type": "display_data",
          "data": {
            "image/png": "[encoded data removed]",
            "text/plain": [
              "<Figure size 432x288 with 1 Axes>"
            ]
          },
          "metadata": {
            "tags": [],
            "needs_background": "light"
          }
        }
      ]
    },
    {
      "cell_type": "code",
      "metadata": {
        "id": "rwb4apJC6JIh"
      },
      "source": [
        ""
      ],
      "execution_count": null,
      "outputs": []
    },
    {
      "cell_type": "code",
      "metadata": {
        "id": "2Z09rAJQ6JE9"
      },
      "source": [
        ""
      ],
      "execution_count": null,
      "outputs": []
    },
    {
      "cell_type": "markdown",
      "metadata": {
        "id": "AZ9d1AyRR_hf"
      },
      "source": [
        "# VGG16 Model"
      ]
    },
    {
      "cell_type": "markdown",
      "metadata": {
        "id": "AbhiWsE6-zza"
      },
      "source": [
        "**INITIALIZING THE BASE MODEL: VGG16**"
      ]
    },
    {
      "cell_type": "code",
      "metadata": {
        "id": "1GF6LHvfMXeu",
        "colab": {
          "base_uri": "https://localhost:8080/"
        },
        "outputId": "977f587c-5ce7-4cc7-fd2e-cd752d030f0c"
      },
      "source": [
        "base_model=VGG16(include_top=False, weights=\"imagenet\", input_shape=(224,224,3))\n",
        "base_model.trainable=False"
      ],
      "execution_count": null,
      "outputs": [
        {
          "output_type": "stream",
          "text": [
            "Downloading data from https://storage.googleapis.com/tensorflow/keras-applications/vgg16/vgg16_weights_tf_dim_ordering_tf_kernels_notop.h5\n",
            "58892288/58889256 [==============================] - 1s 0us/step\n"
          ],
          "name": "stdout"
        }
      ]
    },
    {
      "cell_type": "markdown",
      "metadata": {
        "id": "kxKa4U3a-7v5"
      },
      "source": [
        "**ADDING FURTHER LAYERS**"
      ]
    },
    {
      "cell_type": "code",
      "metadata": {
        "colab": {
          "base_uri": "https://localhost:8080/"
        },
        "id": "DNvsq_YtMcSA",
        "outputId": "fcf1ebae-ab3e-48d0-e516-2f1f890a01fc"
      },
      "source": [
        "classifier=keras.models.Sequential()\n",
        "classifier.add(base_model)\n",
        "classifier.add(Flatten())\n",
        "classifier.add(Dense(27,activation='softmax'))\n",
        "classifier.summary()"
      ],
      "execution_count": null,
      "outputs": [
        {
          "output_type": "stream",
          "text": [
            "Model: \"sequential\"\n",
            "_________________________________________________________________\n",
            "Layer (type)                 Output Shape              Param #   \n",
            "=================================================================\n",
            "vgg16 (Functional)           (None, 7, 7, 512)         14714688  \n",
            "_________________________________________________________________\n",
            "flatten (Flatten)            (None, 25088)             0         \n",
            "_________________________________________________________________\n",
            "dense (Dense)                (None, 27)                677403    \n",
            "=================================================================\n",
            "Total params: 15,392,091\n",
            "Trainable params: 677,403\n",
            "Non-trainable params: 14,714,688\n",
            "_________________________________________________________________\n"
          ],
          "name": "stdout"
        }
      ]
    },
    {
      "cell_type": "markdown",
      "metadata": {
        "id": "-0QQpSYD_Dd0"
      },
      "source": [
        "**TRAINING THE MODEL**"
      ]
    },
    {
      "cell_type": "code",
      "metadata": {
        "id": "mEKIB0mUMf-j"
      },
      "source": [
        "classifier.compile(optimizer='adam', loss='categorical_crossentropy', metrics=['accuracy'])"
      ],
      "execution_count": null,
      "outputs": []
    },
    {
      "cell_type": "code",
      "metadata": {
        "colab": {
          "base_uri": "https://localhost:8080/"
        },
        "id": "dtZf33_jMn3E",
        "outputId": "76941dd9-4c94-4833-aa7b-d6dc97f91483"
      },
      "source": [
        "#fitting images to CNN\n",
        "history = classifier.fit(training_set, steps_per_epoch=train_num//batch_size, validation_data=valid_set, epochs=6, validation_steps=valid_num//batch_size)"
      ],
      "execution_count": null,
      "outputs": [
        {
          "output_type": "stream",
          "text": [
            "Epoch 1/6\n",
            "18/18 [==============================] - 135s 5s/step - loss: 3.7236 - accuracy: 0.1120 - val_loss: 2.7139 - val_accuracy: 0.2578\n",
            "Epoch 2/6\n",
            "18/18 [==============================] - 84s 5s/step - loss: 2.3449 - accuracy: 0.3418 - val_loss: 2.3759 - val_accuracy: 0.3125\n",
            "Epoch 3/6\n",
            "18/18 [==============================] - 83s 5s/step - loss: 1.9525 - accuracy: 0.4136 - val_loss: 2.1747 - val_accuracy: 0.3281\n",
            "Epoch 4/6\n",
            "18/18 [==============================] - 83s 5s/step - loss: 1.6795 - accuracy: 0.4993 - val_loss: 2.2431 - val_accuracy: 0.3750\n",
            "Epoch 5/6\n",
            "18/18 [==============================] - 84s 5s/step - loss: 1.5696 - accuracy: 0.5397 - val_loss: 2.1460 - val_accuracy: 0.3828\n",
            "Epoch 6/6\n",
            "18/18 [==============================] - 84s 5s/step - loss: 1.3749 - accuracy: 0.5775 - val_loss: 2.2235 - val_accuracy: 0.3906\n"
          ],
          "name": "stdout"
        }
      ]
    },
    {
      "cell_type": "code",
      "metadata": {
        "id": "t3Am3S50M6qX"
      },
      "source": [
        "#Saving our model\n",
        "filepath=\"Mymodel.h5\"\n",
        "classifier.save(filepath)"
      ],
      "execution_count": null,
      "outputs": []
    },
    {
      "cell_type": "markdown",
      "metadata": {
        "id": "LrD1LTQU_K5m"
      },
      "source": [
        "**VISUALIZING THE RESULTS**"
      ]
    },
    {
      "cell_type": "code",
      "metadata": {
        "id": "Gy17G27BPK4e"
      },
      "source": [
        "import matplotlib.pyplot as plt\n",
        "import seaborn as sns\n",
        "sns.set()\n",
        "\n",
        "acc = history.history['accuracy']\n",
        "val_acc = history.history['val_accuracy']\n",
        "loss = history.history['loss']\n",
        "val_loss = history.history['val_loss']\n",
        "epochs = range(1, len(loss) + 1)\n"
      ],
      "execution_count": null,
      "outputs": []
    },
    {
      "cell_type": "code",
      "metadata": {
        "id": "SetK148RPLxV",
        "colab": {
          "base_uri": "https://localhost:8080/",
          "height": 585
        },
        "outputId": "0f22deed-254b-4593-bece-5c9e0e3bc019"
      },
      "source": [
        "#accuracy plot\n",
        "plt.plot(epochs, acc, color='green', label='Training Accuracy')\n",
        "plt.plot(epochs, val_acc, color='blue', label='Validation Accuracy')\n",
        "plt.title('Training and Validation Accuracy')\n",
        "plt.ylabel('Accuracy')\n",
        "plt.xlabel('Epoch')\n",
        "plt.legend()\n",
        "\n",
        "plt.figure()\n",
        "#loss plot\n",
        "plt.plot(epochs, loss, color='pink', label='Training Loss')\n",
        "plt.plot(epochs, val_loss, color='red', label='Validation Loss')\n",
        "plt.title('Training and Validation Loss')\n",
        "plt.xlabel('Epoch')\n",
        "plt.ylabel('Loss')\n",
        "plt.legend()\n",
        "\n",
        "plt.show()"
      ],
      "execution_count": null,
      "outputs": [
        {
          "output_type": "display_data",
          "data": {
            "image/png": "[encoded data removed]",
            "text/plain": [
              "<Figure size 432x288 with 1 Axes>"
            ]
          },
          "metadata": {
            "tags": []
          }
        },
        {
          "output_type": "display_data",
          "data": {
            "image/png": "[encoded data removed]",
            "text/plain": [
              "<Figure size 432x288 with 1 Axes>"
            ]
          },
          "metadata": {
            "tags": []
          }
        }
      ]
    },
    {
      "cell_type": "markdown",
      "metadata": {
        "id": "dTytxFEDSEU1"
      },
      "source": [
        "# Xception Model\n"
      ]
    },
    {
      "cell_type": "markdown",
      "metadata": {
        "id": "Xvy08Z1jSHmB"
      },
      "source": [
        "**INITIALIZING THE BASE MODEL: Xception**"
      ]
    },
    {
      "cell_type": "code",
      "metadata": {
        "id": "SPGyzEmp-JsV"
      },
      "source": [
        "from keras.applications import Xception"
      ],
      "execution_count": null,
      "outputs": []
    },
    {
      "cell_type": "code",
      "metadata": {
        "colab": {
          "base_uri": "https://localhost:8080/"
        },
        "id": "hqX8zQ-1-KNo",
        "outputId": "d92fc5a9-9854-4b3f-dbdd-cbb7975fca2f"
      },
      "source": [
        "base_model=Xception(include_top=False, weights=\"imagenet\", input_shape=(224,224,3))\n",
        "base_model.trainable=False"
      ],
      "execution_count": null,
      "outputs": [
        {
          "output_type": "stream",
          "text": [
            "Downloading data from https://storage.googleapis.com/tensorflow/keras-applications/xception/xception_weights_tf_dim_ordering_tf_kernels_notop.h5\n",
            "83689472/83683744 [==============================] - 1s 0us/step\n"
          ],
          "name": "stdout"
        }
      ]
    },
    {
      "cell_type": "markdown",
      "metadata": {
        "id": "OIeSfBFVSQJG"
      },
      "source": [
        "**ADDING FURTHER LAYERS**"
      ]
    },
    {
      "cell_type": "code",
      "metadata": {
        "colab": {
          "base_uri": "https://localhost:8080/"
        },
        "id": "_b9bsuev-KaY",
        "outputId": "b4ec6a42-053d-4c15-d4ea-7883aea9d5c6"
      },
      "source": [
        "classifier=keras.models.Sequential()\n",
        "classifier.add(base_model)\n",
        "classifier.add(Flatten())\n",
        "classifier.add(Dense(27,activation='softmax'))\n",
        "classifier.summary()"
      ],
      "execution_count": null,
      "outputs": [
        {
          "output_type": "stream",
          "text": [
            "Model: \"sequential_2\"\n",
            "_________________________________________________________________\n",
            "Layer (type)                 Output Shape              Param #   \n",
            "=================================================================\n",
            "xception (Functional)        (None, 7, 7, 2048)        20861480  \n",
            "_________________________________________________________________\n",
            "flatten_2 (Flatten)          (None, 100352)            0         \n",
            "_________________________________________________________________\n",
            "dense_2 (Dense)              (None, 27)                2709531   \n",
            "=================================================================\n",
            "Total params: 23,571,011\n",
            "Trainable params: 2,709,531\n",
            "Non-trainable params: 20,861,480\n",
            "_________________________________________________________________\n"
          ],
          "name": "stdout"
        }
      ]
    },
    {
      "cell_type": "markdown",
      "metadata": {
        "id": "BknkpuI2STW1"
      },
      "source": [
        "**TRAINING THE MODEL**"
      ]
    },
    {
      "cell_type": "code",
      "metadata": {
        "id": "rsDe3vDCPV1h"
      },
      "source": [
        "classifier.compile(optimizer='adam', loss='categorical_crossentropy', metrics=['accuracy'])"
      ],
      "execution_count": null,
      "outputs": []
    },
    {
      "cell_type": "code",
      "metadata": {
        "colab": {
          "base_uri": "https://localhost:8080/"
        },
        "id": "ytMD4WzxAYXO",
        "outputId": "ba496977-50ca-495d-e0f0-c3467f36382d"
      },
      "source": [
        "#fitting images to CNN\n",
        "history = classifier.fit(training_set, steps_per_epoch=train_num//batch_size, validation_data=valid_set, epochs=6, validation_steps=valid_num//batch_size)"
      ],
      "execution_count": null,
      "outputs": [
        {
          "output_type": "stream",
          "text": [
            "Epoch 1/6\n",
            "18/18 [==============================] - 88s 5s/step - loss: 9.5750 - accuracy: 0.2052 - val_loss: 6.4635 - val_accuracy: 0.2812\n",
            "Epoch 2/6\n",
            "18/18 [==============================] - 88s 5s/step - loss: 4.1057 - accuracy: 0.4078 - val_loss: 3.7466 - val_accuracy: 0.4141\n",
            "Epoch 3/6\n",
            "18/18 [==============================] - 85s 5s/step - loss: 2.7997 - accuracy: 0.5018 - val_loss: 4.3426 - val_accuracy: 0.3516\n",
            "Epoch 4/6\n",
            "18/18 [==============================] - 85s 5s/step - loss: 2.3395 - accuracy: 0.5561 - val_loss: 4.3381 - val_accuracy: 0.3438\n",
            "Epoch 5/6\n",
            "18/18 [==============================] - 85s 5s/step - loss: 1.8107 - accuracy: 0.6252 - val_loss: 4.8120 - val_accuracy: 0.4062\n",
            "Epoch 6/6\n",
            "18/18 [==============================] - 85s 5s/step - loss: 1.6732 - accuracy: 0.6484 - val_loss: 4.7766 - val_accuracy: 0.4297\n"
          ],
          "name": "stdout"
        }
      ]
    },
    {
      "cell_type": "code",
      "metadata": {
        "id": "li2u_-qwAc22"
      },
      "source": [
        "#Saving our model\n",
        "filepath=\"Mymodel2.h5\"\n",
        "classifier.save(filepath)"
      ],
      "execution_count": null,
      "outputs": []
    },
    {
      "cell_type": "markdown",
      "metadata": {
        "id": "lnehsQXLSW0k"
      },
      "source": [
        "**VISUALIZING THE RESULTS**"
      ]
    },
    {
      "cell_type": "code",
      "metadata": {
        "id": "3Zfr7D9xAiB3"
      },
      "source": [
        "import matplotlib.pyplot as plt\n",
        "import seaborn as sns\n",
        "sns.set()\n",
        "\n",
        "acc = history.history['accuracy']\n",
        "val_acc = history.history['val_accuracy']\n",
        "loss = history.history['loss']\n",
        "val_loss = history.history['val_loss']\n",
        "epochs = range(1, len(loss) + 1)"
      ],
      "execution_count": null,
      "outputs": []
    },
    {
      "cell_type": "code",
      "metadata": {
        "colab": {
          "base_uri": "https://localhost:8080/",
          "height": 585
        },
        "id": "nfpamuttAmkp",
        "outputId": "ea0d0607-9826-4614-8eef-095475335f52"
      },
      "source": [
        "#accuracy plot\n",
        "plt.plot(epochs, acc, color='green', label='Training Accuracy')\n",
        "plt.plot(epochs, val_acc, color='blue', label='Validation Accuracy')\n",
        "plt.title('Training and Validation Accuracy')\n",
        "plt.ylabel('Accuracy')\n",
        "plt.xlabel('Epoch')\n",
        "plt.legend()\n",
        "\n",
        "plt.figure()\n",
        "#loss plot\n",
        "plt.plot(epochs, loss, color='pink', label='Training Loss')\n",
        "plt.plot(epochs, val_loss, color='red', label='Validation Loss')\n",
        "plt.title('Training and Validation Loss')\n",
        "plt.xlabel('Epoch')\n",
        "plt.ylabel('Loss')\n",
        "plt.legend()\n",
        "\n",
        "plt.show()"
      ],
      "execution_count": null,
      "outputs": [
        {
          "output_type": "display_data",
          "data": {
            "image/png": "[encoded data removed]",
            "text/plain": [
              "<Figure size 432x288 with 1 Axes>"
            ]
          },
          "metadata": {
            "tags": []
          }
        },
        {
          "output_type": "display_data",
          "data": {
            "image/png": "[encoded data removed]",
            "text/plain": [
              "<Figure size 432x288 with 1 Axes>"
            ]
          },
          "metadata": {
            "tags": []
          }
        }
      ]
    },
    {
      "cell_type": "markdown",
      "metadata": {
        "id": "XC0nRcrjm3op"
      },
      "source": [
        "# InceptionV3 Model"
      ]
    },
    {
      "cell_type": "markdown",
      "metadata": {
        "id": "M_cr3bDTm9lB"
      },
      "source": [
        "**INITIALIZING THE BASE MODEL: InceptionV3**"
      ]
    },
    {
      "cell_type": "code",
      "metadata": {
        "id": "pmfALjjGlkW_"
      },
      "source": [
        "from keras.applications import InceptionV3"
      ],
      "execution_count": null,
      "outputs": []
    },
    {
      "cell_type": "code",
      "metadata": {
        "id": "q4ukd71nllO6"
      },
      "source": [
        "base_model=InceptionV3(include_top=False, weights=\"imagenet\", input_shape=(224,224,3))\n",
        "base_model.trainable=False"
      ],
      "execution_count": null,
      "outputs": []
    },
    {
      "cell_type": "markdown",
      "metadata": {
        "id": "HOS-_sTWnEj2"
      },
      "source": [
        "**ADDING FURTHER LAYERS**"
      ]
    },
    {
      "cell_type": "code",
      "metadata": {
        "colab": {
          "base_uri": "https://localhost:8080/"
        },
        "id": "UeSfnekLl5QA",
        "outputId": "0058a8d5-a227-4c2d-eeb4-4815ff148911"
      },
      "source": [
        "classifier=keras.models.Sequential()\n",
        "classifier.add(base_model)\n",
        "classifier.add(Flatten())\n",
        "classifier.add(Dense(27,activation='softmax'))\n",
        "classifier.summary()"
      ],
      "execution_count": null,
      "outputs": [
        {
          "output_type": "stream",
          "text": [
            "Model: \"sequential_2\"\n",
            "_________________________________________________________________\n",
            "Layer (type)                 Output Shape              Param #   \n",
            "=================================================================\n",
            "inception_v3 (Functional)    (None, 5, 5, 2048)        21802784  \n",
            "_________________________________________________________________\n",
            "flatten_2 (Flatten)          (None, 51200)             0         \n",
            "_________________________________________________________________\n",
            "dense_2 (Dense)              (None, 27)                1382427   \n",
            "=================================================================\n",
            "Total params: 23,185,211\n",
            "Trainable params: 1,382,427\n",
            "Non-trainable params: 21,802,784\n",
            "_________________________________________________________________\n"
          ],
          "name": "stdout"
        }
      ]
    },
    {
      "cell_type": "markdown",
      "metadata": {
        "id": "La2SOPlwnOxs"
      },
      "source": [
        "**TRAINING THE MODEL**"
      ]
    },
    {
      "cell_type": "code",
      "metadata": {
        "id": "oig7udc_mJL3"
      },
      "source": [
        "classifier.compile(optimizer='adam', loss='categorical_crossentropy', metrics=['accuracy'])"
      ],
      "execution_count": null,
      "outputs": []
    },
    {
      "cell_type": "code",
      "metadata": {
        "colab": {
          "base_uri": "https://localhost:8080/"
        },
        "id": "OAKOA5cCmBeh",
        "outputId": "9dbe6b2a-4991-4dbc-8539-65d84eadf105"
      },
      "source": [
        "#fitting images to CNN\n",
        "history = classifier.fit(training_set, steps_per_epoch=train_num//batch_size, validation_data=valid_set, epochs=6, validation_steps=valid_num//batch_size)"
      ],
      "execution_count": null,
      "outputs": [
        {
          "output_type": "stream",
          "text": [
            "Epoch 1/6\n",
            "18/18 [==============================] - 81s 5s/step - loss: 31.1568 - accuracy: 0.1354 - val_loss: 17.1119 - val_accuracy: 0.1562\n",
            "Epoch 2/6\n",
            "18/18 [==============================] - 76s 4s/step - loss: 10.3775 - accuracy: 0.2767 - val_loss: 7.9638 - val_accuracy: 0.2500\n",
            "Epoch 3/6\n",
            "18/18 [==============================] - 77s 4s/step - loss: 4.0566 - accuracy: 0.4354 - val_loss: 5.2034 - val_accuracy: 0.3359\n",
            "Epoch 4/6\n",
            "18/18 [==============================] - 75s 4s/step - loss: 2.6709 - accuracy: 0.5226 - val_loss: 4.4249 - val_accuracy: 0.3281\n",
            "Epoch 5/6\n",
            "18/18 [==============================] - 79s 4s/step - loss: 2.3085 - accuracy: 0.5597 - val_loss: 3.5355 - val_accuracy: 0.4062\n",
            "Epoch 6/6\n",
            "18/18 [==============================] - 76s 4s/step - loss: 2.1106 - accuracy: 0.5859 - val_loss: 4.1696 - val_accuracy: 0.3672\n"
          ],
          "name": "stdout"
        }
      ]
    },
    {
      "cell_type": "code",
      "metadata": {
        "id": "80YkFIG_mNQS"
      },
      "source": [
        "#Saving our model\n",
        "filepath=\"Mymodel2.h5\"\n",
        "classifier.save(filepath)"
      ],
      "execution_count": null,
      "outputs": []
    },
    {
      "cell_type": "markdown",
      "metadata": {
        "id": "lNGnIHmanUKH"
      },
      "source": [
        "**VISUALIZING THE RESULTS**"
      ]
    },
    {
      "cell_type": "code",
      "metadata": {
        "id": "pr0NqcNmmONQ"
      },
      "source": [
        "import matplotlib.pyplot as plt\n",
        "import seaborn as sns\n",
        "sns.set()\n",
        "\n",
        "acc = history.history['accuracy']\n",
        "val_acc = history.history['val_accuracy']\n",
        "loss = history.history['loss']\n",
        "val_loss = history.history['val_loss']\n",
        "epochs = range(1, len(loss) + 1)"
      ],
      "execution_count": null,
      "outputs": []
    },
    {
      "cell_type": "code",
      "metadata": {
        "colab": {
          "base_uri": "https://localhost:8080/",
          "height": 585
        },
        "id": "aJwxO6xOmRiP",
        "outputId": "3efd2331-ddcc-4c2b-bddb-a6e07da62a76"
      },
      "source": [
        "#accuracy plot\n",
        "plt.plot(epochs, acc, color='green', label='Training Accuracy')\n",
        "plt.plot(epochs, val_acc, color='blue', label='Validation Accuracy')\n",
        "plt.title('Training and Validation Accuracy')\n",
        "plt.ylabel('Accuracy')\n",
        "plt.xlabel('Epoch')\n",
        "plt.legend()\n",
        "\n",
        "plt.figure()\n",
        "#loss plot\n",
        "plt.plot(epochs, loss, color='pink', label='Training Loss')\n",
        "plt.plot(epochs, val_loss, color='red', label='Validation Loss')\n",
        "plt.title('Training and Validation Loss')\n",
        "plt.xlabel('Epoch')\n",
        "plt.ylabel('Loss')\n",
        "plt.legend()\n",
        "\n",
        "plt.show()"
      ],
      "execution_count": null,
      "outputs": [
        {
          "output_type": "display_data",
          "data": {
            "image/png": "[encoded data removed]",
            "text/plain": [
              "<Figure size 432x288 with 1 Axes>"
            ]
          },
          "metadata": {
            "tags": []
          }
        },
        {
          "output_type": "display_data",
          "data": {
            "image/png": "[encoded data removed]",
            "text/plain": [
              "<Figure size 432x288 with 1 Axes>"
            ]
          },
          "metadata": {
            "tags": []
          }
        }
      ]
    },
    {
      "cell_type": "markdown",
      "metadata": {
        "id": "S0g02neGne0g"
      },
      "source": [
        "# ResNet152 Model"
      ]
    },
    {
      "cell_type": "markdown",
      "metadata": {
        "id": "h7ze5eeGn4fP"
      },
      "source": [
        "**INITIALIZING THE BASE MODEL: ResNet152**"
      ]
    },
    {
      "cell_type": "code",
      "metadata": {
        "id": "2jYcGp99nbxm"
      },
      "source": [
        "from keras.applications import ResNet152"
      ],
      "execution_count": null,
      "outputs": []
    },
    {
      "cell_type": "code",
      "metadata": {
        "colab": {
          "base_uri": "https://localhost:8080/"
        },
        "id": "-1QaN4h_nbxm",
        "outputId": "cb9f823b-fbd8-4203-a56d-6ace5e72898c"
      },
      "source": [
        "base_model=ResNet152(include_top=False, weights=\"imagenet\", input_shape=(224,224,3))\n",
        "base_model.trainable=False"
      ],
      "execution_count": null,
      "outputs": [
        {
          "output_type": "stream",
          "text": [
            "Downloading data from https://storage.googleapis.com/tensorflow/keras-applications/resnet/resnet152_weights_tf_dim_ordering_tf_kernels_notop.h5\n",
            "234700800/234698864 [==============================] - 2s 0us/step\n"
          ],
          "name": "stdout"
        }
      ]
    },
    {
      "cell_type": "markdown",
      "metadata": {
        "id": "VlNVzFtRnbxn"
      },
      "source": [
        "**ADDING FURTHER LAYERS**"
      ]
    },
    {
      "cell_type": "code",
      "metadata": {
        "colab": {
          "base_uri": "https://localhost:8080/"
        },
        "id": "NMclLP6-nbxn",
        "outputId": "4cc951f9-2872-423b-91f4-f14795d80f82"
      },
      "source": [
        "classifier=keras.models.Sequential()\n",
        "classifier.add(base_model)\n",
        "classifier.add(Flatten())\n",
        "classifier.add(Dense(27,activation='softmax'))\n",
        "classifier.summary()"
      ],
      "execution_count": null,
      "outputs": [
        {
          "output_type": "stream",
          "text": [
            "Model: \"sequential_3\"\n",
            "_________________________________________________________________\n",
            "Layer (type)                 Output Shape              Param #   \n",
            "=================================================================\n",
            "resnet152 (Functional)       (None, 7, 7, 2048)        58370944  \n",
            "_________________________________________________________________\n",
            "flatten_3 (Flatten)          (None, 100352)            0         \n",
            "_________________________________________________________________\n",
            "dense_3 (Dense)              (None, 27)                2709531   \n",
            "=================================================================\n",
            "Total params: 61,080,475\n",
            "Trainable params: 2,709,531\n",
            "Non-trainable params: 58,370,944\n",
            "_________________________________________________________________\n"
          ],
          "name": "stdout"
        }
      ]
    },
    {
      "cell_type": "markdown",
      "metadata": {
        "id": "oWMg47xRnbxn"
      },
      "source": [
        "**TRAINING THE MODEL**"
      ]
    },
    {
      "cell_type": "code",
      "metadata": {
        "id": "_mjvr6lVnbxn"
      },
      "source": [
        "classifier.compile(optimizer='adam', loss='categorical_crossentropy', metrics=['accuracy'])"
      ],
      "execution_count": null,
      "outputs": []
    },
    {
      "cell_type": "code",
      "metadata": {
        "colab": {
          "base_uri": "https://localhost:8080/"
        },
        "id": "Iv2c3DH7nbxn",
        "outputId": "958b1df7-bafe-493a-dcac-de5ef7b55c3c"
      },
      "source": [
        "#fitting images to CNN\n",
        "history = classifier.fit(training_set, steps_per_epoch=train_num//batch_size, validation_data=valid_set, epochs=6, validation_steps=valid_num//batch_size)"
      ],
      "execution_count": null,
      "outputs": [
        {
          "output_type": "stream",
          "text": [
            "Epoch 1/6\n",
            "18/18 [==============================] - 86s 5s/step - loss: 14.1414 - accuracy: 0.0475 - val_loss: 12.8523 - val_accuracy: 0.0625\n",
            "Epoch 2/6\n",
            "18/18 [==============================] - 82s 5s/step - loss: 9.6445 - accuracy: 0.0538 - val_loss: 6.8790 - val_accuracy: 0.0859\n",
            "Epoch 3/6\n",
            "18/18 [==============================] - 82s 5s/step - loss: 4.5177 - accuracy: 0.0677 - val_loss: 4.3544 - val_accuracy: 0.0859\n",
            "Epoch 4/6\n",
            "18/18 [==============================] - 80s 4s/step - loss: 3.5618 - accuracy: 0.0972 - val_loss: 3.4492 - val_accuracy: 0.1016\n",
            "Epoch 5/6\n",
            "18/18 [==============================] - 81s 5s/step - loss: 3.2082 - accuracy: 0.1266 - val_loss: 3.8768 - val_accuracy: 0.0547\n",
            "Epoch 6/6\n",
            "18/18 [==============================] - 81s 4s/step - loss: 3.2141 - accuracy: 0.1230 - val_loss: 3.6374 - val_accuracy: 0.0859\n"
          ],
          "name": "stdout"
        }
      ]
    },
    {
      "cell_type": "code",
      "metadata": {
        "id": "RFHCxFkDnbxn"
      },
      "source": [
        "#Saving our model\n",
        "filepath=\"Mymodel2.h5\"\n",
        "classifier.save(filepath)"
      ],
      "execution_count": null,
      "outputs": []
    },
    {
      "cell_type": "markdown",
      "metadata": {
        "id": "BvSOh09cnbxn"
      },
      "source": [
        "**VISUALIZING THE RESULTS**"
      ]
    },
    {
      "cell_type": "code",
      "metadata": {
        "id": "RvSuLddbnbxn"
      },
      "source": [
        "import matplotlib.pyplot as plt\n",
        "import seaborn as sns\n",
        "sns.set()\n",
        "\n",
        "acc = history.history['accuracy']\n",
        "val_acc = history.history['val_accuracy']\n",
        "loss = history.history['loss']\n",
        "val_loss = history.history['val_loss']\n",
        "epochs = range(1, len(loss) + 1)"
      ],
      "execution_count": null,
      "outputs": []
    },
    {
      "cell_type": "code",
      "metadata": {
        "colab": {
          "base_uri": "https://localhost:8080/",
          "height": 585
        },
        "id": "aO-L0XGhnbxn",
        "outputId": "48958722-97d6-4048-a84a-d906bb94ce96"
      },
      "source": [
        "#accuracy plot\n",
        "plt.plot(epochs, acc, color='green', label='Training Accuracy')\n",
        "plt.plot(epochs, val_acc, color='blue', label='Validation Accuracy')\n",
        "plt.title('Training and Validation Accuracy')\n",
        "plt.ylabel('Accuracy')\n",
        "plt.xlabel('Epoch')\n",
        "plt.legend()\n",
        "\n",
        "plt.figure()\n",
        "#loss plot\n",
        "plt.plot(epochs, loss, color='pink', label='Training Loss')\n",
        "plt.plot(epochs, val_loss, color='red', label='Validation Loss')\n",
        "plt.title('Training and Validation Loss')\n",
        "plt.xlabel('Epoch')\n",
        "plt.ylabel('Loss')\n",
        "plt.legend()\n",
        "\n",
        "plt.show()"
      ],
      "execution_count": null,
      "outputs": [
        {
          "output_type": "display_data",
          "data": {
            "image/png": "[encoded data removed]",
            "text/plain": [
              "<Figure size 432x288 with 1 Axes>"
            ]
          },
          "metadata": {
            "tags": []
          }
        },
        {
          "output_type": "display_data",
          "data": {
            "image/png": "[encoded data removed]",
            "text/plain": [
              "<Figure size 432x288 with 1 Axes>"
            ]
          },
          "metadata": {
            "tags": []
          }
        }
      ]
    },
    {
      "cell_type": "markdown",
      "metadata": {
        "id": "xPmDbbHKqVE4"
      },
      "source": [
        "# MoblieNetV2 Model"
      ]
    },
    {
      "cell_type": "markdown",
      "metadata": {
        "id": "Yrxvlx5pqVE5"
      },
      "source": [
        "**INITIALIZING THE BASE MODEL: MobileNetV2**"
      ]
    },
    {
      "cell_type": "code",
      "metadata": {
        "id": "xXpkFqUmqVE5"
      },
      "source": [
        "from keras.applications import MobileNetV2"
      ],
      "execution_count": null,
      "outputs": []
    },
    {
      "cell_type": "code",
      "metadata": {
        "id": "UDtCDE1YqVE5",
        "colab": {
          "base_uri": "https://localhost:8080/"
        },
        "outputId": "b75d4777-feef-4608-aff6-e8d04b959487"
      },
      "source": [
        "base_model=MobileNetV2(include_top=False, weights=\"imagenet\", input_shape=(224,224,3))\n",
        "base_model.trainable=False"
      ],
      "execution_count": null,
      "outputs": [
        {
          "output_type": "stream",
          "text": [
            "Downloading data from https://storage.googleapis.com/tensorflow/keras-applications/mobilenet_v2/mobilenet_v2_weights_tf_dim_ordering_tf_kernels_1.0_224_no_top.h5\n",
            "9412608/9406464 [==============================] - 0s 0us/step\n"
          ],
          "name": "stdout"
        }
      ]
    },
    {
      "cell_type": "markdown",
      "metadata": {
        "id": "ManQUyPyqVE5"
      },
      "source": [
        "**ADDING FURTHER LAYERS**"
      ]
    },
    {
      "cell_type": "code",
      "metadata": {
        "colab": {
          "base_uri": "https://localhost:8080/"
        },
        "id": "aDPQMjUeqVE5",
        "outputId": "74484431-def1-4e4a-ab77-4a7b0cc93526"
      },
      "source": [
        "classifier=keras.models.Sequential()\n",
        "classifier.add(base_model)\n",
        "classifier.add(Flatten())\n",
        "classifier.add(Dense(27,activation='softmax'))\n",
        "classifier.summary()"
      ],
      "execution_count": null,
      "outputs": [
        {
          "output_type": "stream",
          "text": [
            "Model: \"sequential_4\"\n",
            "_________________________________________________________________\n",
            "Layer (type)                 Output Shape              Param #   \n",
            "=================================================================\n",
            "mobilenetv2_1.00_224 (Functi (None, 7, 7, 1280)        2257984   \n",
            "_________________________________________________________________\n",
            "flatten_4 (Flatten)          (None, 62720)             0         \n",
            "_________________________________________________________________\n",
            "dense_4 (Dense)              (None, 27)                1693467   \n",
            "=================================================================\n",
            "Total params: 3,951,451\n",
            "Trainable params: 1,693,467\n",
            "Non-trainable params: 2,257,984\n",
            "_________________________________________________________________\n"
          ],
          "name": "stdout"
        }
      ]
    },
    {
      "cell_type": "markdown",
      "metadata": {
        "id": "pStnYgczqVE5"
      },
      "source": [
        "**TRAINING THE MODEL**"
      ]
    },
    {
      "cell_type": "code",
      "metadata": {
        "id": "RVDJw9y3qVE5"
      },
      "source": [
        "classifier.compile(optimizer='adam', loss='categorical_crossentropy', metrics=['accuracy'])"
      ],
      "execution_count": null,
      "outputs": []
    },
    {
      "cell_type": "code",
      "metadata": {
        "colab": {
          "base_uri": "https://localhost:8080/"
        },
        "id": "OfGwS-N3qVE5",
        "outputId": "f05b130e-ecf8-4728-ec94-2cf685397498"
      },
      "source": [
        "#fitting images to CNN\n",
        "history = classifier.fit(training_set, steps_per_epoch=train_num//batch_size, validation_data=valid_set, epochs=6, validation_steps=valid_num//batch_size)"
      ],
      "execution_count": null,
      "outputs": [
        {
          "output_type": "stream",
          "text": [
            "Epoch 1/6\n",
            "18/18 [==============================] - 75s 4s/step - loss: 5.0789 - accuracy: 0.4995 - val_loss: 6.2358 - val_accuracy: 0.4531\n",
            "Epoch 2/6\n",
            "18/18 [==============================] - 76s 4s/step - loss: 2.9162 - accuracy: 0.6207 - val_loss: 6.6209 - val_accuracy: 0.3906\n",
            "Epoch 3/6\n",
            "18/18 [==============================] - 75s 4s/step - loss: 2.2968 - accuracy: 0.6718 - val_loss: 6.1380 - val_accuracy: 0.4922\n",
            "Epoch 4/6\n",
            "18/18 [==============================] - 76s 4s/step - loss: 2.0258 - accuracy: 0.7125 - val_loss: 7.2930 - val_accuracy: 0.4219\n",
            "Epoch 5/6\n",
            "18/18 [==============================] - 76s 4s/step - loss: 1.8015 - accuracy: 0.7333 - val_loss: 9.0080 - val_accuracy: 0.3906\n",
            "Epoch 6/6\n",
            "18/18 [==============================] - 77s 4s/step - loss: 1.8712 - accuracy: 0.7360 - val_loss: 8.8897 - val_accuracy: 0.3984\n"
          ],
          "name": "stdout"
        }
      ]
    },
    {
      "cell_type": "code",
      "metadata": {
        "id": "IfnpUfqiqVE5"
      },
      "source": [
        "#Saving our model\n",
        "filepath=\"Mymodel2.h5\"\n",
        "classifier.save(filepath)"
      ],
      "execution_count": null,
      "outputs": []
    },
    {
      "cell_type": "markdown",
      "metadata": {
        "id": "99QOvKOgqVE5"
      },
      "source": [
        "**VISUALIZING THE RESULTS**"
      ]
    },
    {
      "cell_type": "code",
      "metadata": {
        "id": "vDPMzks0qVE5"
      },
      "source": [
        "import matplotlib.pyplot as plt\n",
        "import seaborn as sns\n",
        "sns.set()\n",
        "\n",
        "acc = history.history['accuracy']\n",
        "val_acc = history.history['val_accuracy']\n",
        "loss = history.history['loss']\n",
        "val_loss = history.history['val_loss']\n",
        "epochs = range(1, len(loss) + 1)"
      ],
      "execution_count": null,
      "outputs": []
    },
    {
      "cell_type": "code",
      "metadata": {
        "id": "-FD8QNasqVE5",
        "colab": {
          "base_uri": "https://localhost:8080/",
          "height": 585
        },
        "outputId": "d7300bd9-fa66-4557-9c42-3bf2fc259e55"
      },
      "source": [
        "#accuracy plot\n",
        "plt.plot(epochs, acc, color='green', label='Training Accuracy')\n",
        "plt.plot(epochs, val_acc, color='blue', label='Validation Accuracy')\n",
        "plt.title('Training and Validation Accuracy')\n",
        "plt.ylabel('Accuracy')\n",
        "plt.xlabel('Epoch')\n",
        "plt.legend()\n",
        "\n",
        "plt.figure()\n",
        "#loss plot\n",
        "plt.plot(epochs, loss, color='pink', label='Training Loss')\n",
        "plt.plot(epochs, val_loss, color='red', label='Validation Loss')\n",
        "plt.title('Training and Validation Loss')\n",
        "plt.xlabel('Epoch')\n",
        "plt.ylabel('Loss')\n",
        "plt.legend()\n",
        "\n",
        "plt.show()"
      ],
      "execution_count": null,
      "outputs": [
        {
          "output_type": "display_data",
          "data": {
            "image/png": "[encoded data removed]",
            "text/plain": [
              "<Figure size 432x288 with 1 Axes>"
            ]
          },
          "metadata": {
            "tags": []
          }
        },
        {
          "output_type": "display_data",
          "data": {
            "image/png": "[encoded data removed]",
            "text/plain": [
              "<Figure size 432x288 with 1 Axes>"
            ]
          },
          "metadata": {
            "tags": []
          }
        }
      ]
    }
  ]
}